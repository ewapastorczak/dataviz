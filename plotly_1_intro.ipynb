{
  "nbformat": 4,
  "nbformat_minor": 0,
  "metadata": {
    "colab": {
      "provenance": [],
      "authorship_tag": "ABX9TyNjw0TFJ0F+emcgGiie4l+m",
      "include_colab_link": true
    },
    "kernelspec": {
      "name": "python3",
      "display_name": "Python 3"
    },
    "language_info": {
      "name": "python"
    }
  },
  "cells": [
    {
      "cell_type": "markdown",
      "metadata": {
        "id": "view-in-github",
        "colab_type": "text"
      },
      "source": [
        "<a href=\"https://colab.research.google.com/github/ewapastorczak/dataviz/blob/main/plotly_1_intro.ipynb\" target=\"_parent\"><img src=\"https://colab.research.google.com/assets/colab-badge.svg\" alt=\"Open In Colab\"/></a>"
      ]
    },
    {
      "cell_type": "code",
      "execution_count": 2,
      "metadata": {
        "colab": {
          "base_uri": "https://localhost:8080/"
        },
        "id": "sAaG6rVa3TtE",
        "outputId": "6cf27f49-069a-4970-99f1-09042680f90d",
        "collapsed": true
      },
      "outputs": [
        {
          "output_type": "stream",
          "name": "stdout",
          "text": [
            "Collecting chart_studio\n",
            "  Downloading chart_studio-1.1.0-py3-none-any.whl.metadata (1.3 kB)\n",
            "Requirement already satisfied: plotly in /usr/local/lib/python3.11/dist-packages (from chart_studio) (5.24.1)\n",
            "Requirement already satisfied: requests in /usr/local/lib/python3.11/dist-packages (from chart_studio) (2.32.3)\n",
            "Collecting retrying>=1.3.3 (from chart_studio)\n",
            "  Downloading retrying-1.3.4-py3-none-any.whl.metadata (6.9 kB)\n",
            "Requirement already satisfied: six in /usr/local/lib/python3.11/dist-packages (from chart_studio) (1.17.0)\n",
            "Requirement already satisfied: tenacity>=6.2.0 in /usr/local/lib/python3.11/dist-packages (from plotly->chart_studio) (9.0.0)\n",
            "Requirement already satisfied: packaging in /usr/local/lib/python3.11/dist-packages (from plotly->chart_studio) (24.2)\n",
            "Requirement already satisfied: charset-normalizer<4,>=2 in /usr/local/lib/python3.11/dist-packages (from requests->chart_studio) (3.4.1)\n",
            "Requirement already satisfied: idna<4,>=2.5 in /usr/local/lib/python3.11/dist-packages (from requests->chart_studio) (3.10)\n",
            "Requirement already satisfied: urllib3<3,>=1.21.1 in /usr/local/lib/python3.11/dist-packages (from requests->chart_studio) (2.3.0)\n",
            "Requirement already satisfied: certifi>=2017.4.17 in /usr/local/lib/python3.11/dist-packages (from requests->chart_studio) (2025.1.31)\n",
            "Downloading chart_studio-1.1.0-py3-none-any.whl (64 kB)\n",
            "\u001b[2K   \u001b[90m━━━━━━━━━━━━━━━━━━━━━━━━━━━━━━━━━━━━━━━━\u001b[0m \u001b[32m64.4/64.4 kB\u001b[0m \u001b[31m2.1 MB/s\u001b[0m eta \u001b[36m0:00:00\u001b[0m\n",
            "\u001b[?25hDownloading retrying-1.3.4-py3-none-any.whl (11 kB)\n",
            "Installing collected packages: retrying, chart_studio\n",
            "Successfully installed chart_studio-1.1.0 retrying-1.3.4\n"
          ]
        }
      ],
      "source": [
        "#essential data analysis\n",
        "import numpy as np\n",
        "#friendly data exploration\n",
        "import pandas as pd\n",
        "#essential plot production\n",
        "import matplotlib.pyplot as plt\n",
        "#matplotlib but pretty\n",
        "import seaborn as sns\n",
        "#matplotlib but modern\n",
        "import plotly\n",
        "#chart studio\n",
        "!pip install chart_studio\n",
        "import chart_studio"
      ]
    },
    {
      "cell_type": "markdown",
      "source": [
        "Seaborn:\n",
        "\n",
        "\n",
        "1.   Quick, easy to learn and use\n",
        "2.   Pretty plots\n",
        "3.  Good for statistical plots\n",
        "4.  Very compatible with Pandas\n",
        "5. For written reports and publications\n",
        "6. Not interactive\n",
        "\n",
        "Plotly:\n",
        "\n",
        "https://plotly.com/python/\n",
        "\n",
        "1.   More involved to learn to use\n",
        "2.   Wide range of beautiful plots\n",
        "3. Interactive\n",
        "4. Good for websites, dashboards etc.\n",
        "5. Compatible with Dash\n",
        "\n",
        "\n",
        "\n"
      ],
      "metadata": {
        "id": "vwTeoePnCe80"
      }
    },
    {
      "cell_type": "markdown",
      "source": [
        "We will use the module Plotly Express."
      ],
      "metadata": {
        "id": "O9ieQmhG5e6H"
      }
    },
    {
      "cell_type": "code",
      "source": [
        "import plotly.express as px"
      ],
      "metadata": {
        "id": "rz55rPoa5dLv"
      },
      "execution_count": 6,
      "outputs": []
    },
    {
      "cell_type": "code",
      "source": [
        "df=px.data.iris()\n",
        "df.head()"
      ],
      "metadata": {
        "id": "To5tMQPp3b_7",
        "collapsed": true
      },
      "execution_count": null,
      "outputs": []
    },
    {
      "cell_type": "code",
      "source": [
        "px.scatter(df,x='sepal_width',y='sepal_length')"
      ],
      "metadata": {
        "id": "M_GIG3E86aYS",
        "collapsed": true
      },
      "execution_count": null,
      "outputs": []
    },
    {
      "cell_type": "markdown",
      "source": [
        "Let's make it pretty..."
      ],
      "metadata": {
        "id": "e81He_fPCaZk"
      }
    },
    {
      "cell_type": "code",
      "source": [
        "px.scatter(df,x='sepal_width',y='sepal_length',width=800,color='species')"
      ],
      "metadata": {
        "id": "n8PZHImdCaBk",
        "collapsed": true
      },
      "execution_count": null,
      "outputs": []
    },
    {
      "cell_type": "code",
      "source": [
        "px.scatter(df,x='sepal_width',y='sepal_length',width=800,color='species',marginal_y='histogram')"
      ],
      "metadata": {
        "id": "0rIUdElOfhBv"
      },
      "execution_count": null,
      "outputs": []
    },
    {
      "cell_type": "code",
      "source": [
        "px.scatter(df,x='sepal_width',y='sepal_length',\n",
        "           width=800,\n",
        "           color='species',\n",
        "           marginal_y='histogram',\n",
        "           marginal_x='rug')"
      ],
      "metadata": {
        "id": "MyQSewm8fuNT",
        "collapsed": true
      },
      "execution_count": null,
      "outputs": []
    },
    {
      "cell_type": "code",
      "source": [
        "px.scatter(df,x='sepal_width',y='sepal_length',\n",
        "           width=800,\n",
        "           color='species',\n",
        "           title='Iris Flowers',\n",
        "           trendline='ols')\n"
      ],
      "metadata": {
        "id": "FE4vf14rgDvK"
      },
      "execution_count": null,
      "outputs": []
    },
    {
      "cell_type": "code",
      "source": [
        "fig=px.scatter(df,x='sepal_width',y='sepal_length',\n",
        "           width=800,\n",
        "           color='species',\n",
        "           title='Iris Flowers',\n",
        "           trendline='ols')\n",
        "fig.show()\n",
        "results = px.get_trendline_results(fig)\n",
        "results.info()\n"
      ],
      "metadata": {
        "id": "kg0gWmJMhdj-"
      },
      "execution_count": null,
      "outputs": []
    },
    {
      "cell_type": "code",
      "source": [
        "results = results.iloc[0][\"px_fit_results\"].summary()\n",
        "print(results)"
      ],
      "metadata": {
        "id": "LMLxk_g2ju_S"
      },
      "execution_count": null,
      "outputs": []
    },
    {
      "cell_type": "code",
      "source": [],
      "metadata": {
        "id": "upOFTb72kBFA"
      },
      "execution_count": null,
      "outputs": []
    }
  ]
}